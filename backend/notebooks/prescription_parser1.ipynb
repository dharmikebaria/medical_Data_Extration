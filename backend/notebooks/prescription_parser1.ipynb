{
 "cells": [
  {
   "cell_type": "code",
   "execution_count": 11,
   "id": "7c59db82-46b7-4bd4-a431-51f94a1a6ad3",
   "metadata": {},
   "outputs": [],
   "source": [
    "from pdf2image import convert_from_path\n",
    "import pytesseract"
   ]
  },
  {
   "cell_type": "code",
   "execution_count": 12,
   "id": "5f2a5107-15aa-4bcd-b014-a58a9c8c56ad",
   "metadata": {},
   "outputs": [],
   "source": [
    "pages = convert_from_path(r'docs\\prescription\\pre_1.pdf', poppler_path=r'C:\\poppler-24.08.0\\library\\bin')"
   ]
  },
  {
   "cell_type": "code",
   "execution_count": 13,
   "id": "b6226971-162f-4a5f-80af-e534d56fd742",
   "metadata": {},
   "outputs": [
    {
     "data": {
      "text/plain": [
       "1"
      ]
     },
     "execution_count": 13,
     "metadata": {},
     "output_type": "execute_result"
    }
   ],
   "source": [
    "len(pages)"
   ]
  },
  {
   "cell_type": "code",
   "execution_count": 14,
   "id": "3c0ec815-f0e9-4cf4-8aa7-7dd183f5c2a7",
   "metadata": {},
   "outputs": [],
   "source": [
    "pages[0].show()"
   ]
  },
  {
   "cell_type": "code",
   "execution_count": 8,
   "id": "a7d98dc8-6ede-4918-8710-7619a5a13efa",
   "metadata": {},
   "outputs": [
    {
     "name": "stdout",
     "output_type": "stream",
     "text": [
      "Dr John Smith, M.D\n",
      "2 Non-Important Street,\n",
      "New York, Phone (000)-111-2222\n",
      "\n",
      "Name: Maria Sharapova Date: 5/11/2022\n",
      "\n",
      "Address: 9 tennis court, new Russia, DC\n",
      "\n",
      "—moemenmannenneneneunmnnnnennieesisiyoinnitniahadaaanniihsnseneneneeeernnttnnneenrenen:\n",
      "\n",
      "Prednisone 20 mg\n",
      "Lialda 2.4 gram\n",
      "\n",
      "3 days,\n",
      "\n",
      "or 1 month\n"
     ]
    }
   ],
   "source": [
    "pytesseract.pytesseract.tesseract_cmd = r'C:\\Program Files\\Tesseract-OCR\\tesseract.exe'\n",
    "text = pytesseract.image_to_string(pages[0], lang='eng')\n",
    "print(text)"
   ]
  },
  {
   "cell_type": "code",
   "execution_count": 9,
   "id": "a3d35ac6-3162-4af6-bf79-c1f30b632d3d",
   "metadata": {},
   "outputs": [],
   "source": [
    "import numpy as np\n",
    "import cv2\n",
    "from PIL import Image\n",
    "\n",
    "def preprocess_image(img):\n",
    "    gray = cv2.cvtColor(np.array(img), cv2.COLOR_BGR2GRAY)\n",
    "    resized = cv2.resize(gray, None, fx=1.5, fy=1.5, interpolation=cv2.INTER_LINEAR)\n",
    "    processed_image = cv2.adaptiveThreshold(\n",
    "        resized,\n",
    "        255,\n",
    "        cv2.ADAPTIVE_THRESH_GAUSSIAN_C, \n",
    "        cv2.THRESH_BINARY, \n",
    "        61,\n",
    "        11\n",
    "    )\n",
    "    return processed_image"
   ]
  },
  {
   "cell_type": "code",
   "execution_count": 15,
   "id": "0b4130bc-9411-4d18-b354-a02f509d13ad",
   "metadata": {},
   "outputs": [],
   "source": [
    "img = preprocess_image(pages[0])\n",
    "Image.fromarray(img).show()"
   ]
  },
  {
   "cell_type": "code",
   "execution_count": 42,
   "id": "f1e6e19b-348c-4612-97a1-91ae2ff17a56",
   "metadata": {},
   "outputs": [
    {
     "name": "stdout",
     "output_type": "stream",
     "text": [
      "Dr John Smith, M.D\n",
      "2 Non-Important Street,\n",
      "New York, Phone (000)-111-2222\n",
      "\n",
      "Name: Marta Sharapova Date: 5/11/2022\n",
      "\n",
      "Address: 9 tennis court, new Russia, DC\n",
      "\n",
      "K\n",
      "\n",
      "Prednisone 20 mg\n",
      "Lialda 2.4 gram\n",
      "\n",
      "Directions:\n",
      "\n",
      "Prednisone, Taper 5 mig every 3 days,\n",
      "Finish in 2.5 weeks a\n",
      "Lialda - take 2 pill everyday for 1 month\n",
      "\n",
      "Refill: 2 times\n"
     ]
    }
   ],
   "source": [
    "pytesseract.pytesseract.tesseract_cmd = r'C:\\Program Files\\Tesseract-OCR\\tesseract.exe'\n",
    "text = pytesseract.image_to_string(img, lang='eng')\n",
    "print(text)"
   ]
  },
  {
   "cell_type": "code",
   "execution_count": null,
   "id": "9c5c78bd-a81f-414e-b71d-61ffe7f788ed",
   "metadata": {},
   "outputs": [],
   "source": [
    "#for the second image"
   ]
  },
  {
   "cell_type": "code",
   "execution_count": 16,
   "id": "3d7f3a5b-5c89-40a7-86df-f47533ec6049",
   "metadata": {},
   "outputs": [],
   "source": [
    "pages = convert_from_path(r'docs\\prescription\\pre_2.pdf', poppler_path=r'C:\\poppler-24.08.0\\library\\bin')"
   ]
  },
  {
   "cell_type": "code",
   "execution_count": 17,
   "id": "f8767ea2-c919-4b61-81a5-0009087a46b0",
   "metadata": {},
   "outputs": [],
   "source": [
    "pages[0].show()"
   ]
  },
  {
   "cell_type": "code",
   "execution_count": 32,
   "id": "6cd68993-0a10-4388-a32b-a5541bce15de",
   "metadata": {},
   "outputs": [
    {
     "name": "stdout",
     "output_type": "stream",
     "text": [
      "Refill: 3 times\n"
     ]
    }
   ],
   "source": [
    "pytesseract.pytesseract.tesseract_cmd = r'C:\\Program Files\\Tesseract-OCR\\tesseract.exe'\n",
    "text = pytesseract.image_to_string(pages[0], lang='eng')\n",
    "print(text)"
   ]
  },
  {
   "cell_type": "code",
   "execution_count": 33,
   "id": "7a117324-375e-4173-a6c7-e572e35439ce",
   "metadata": {},
   "outputs": [],
   "source": [
    "def preprocess_image(img):\n",
    "    gray = cv2.cvtColor(np.array(img), cv2.COLOR_BGR2GRAY)\n",
    "    resized = cv2.resize(gray, None, fx=1.5, fy=1.5, interpolation=cv2.INTER_LINEAR)\n",
    "    processed_image = cv2.adaptiveThreshold(\n",
    "        resized,\n",
    "        255,\n",
    "        cv2.ADAPTIVE_THRESH_GAUSSIAN_C, \n",
    "        cv2.THRESH_BINARY, \n",
    "        61,\n",
    "        11\n",
    "    )\n",
    "    return processed_image"
   ]
  },
  {
   "cell_type": "code",
   "execution_count": 34,
   "id": "4303c95f-6018-4cc0-a9e2-772c09536b20",
   "metadata": {},
   "outputs": [],
   "source": [
    "img = preprocess_image(pages[0])\n",
    "Image.fromarray(img).show()"
   ]
  },
  {
   "cell_type": "code",
   "execution_count": 21,
   "id": "a002d3de-caab-42a2-b475-ba9b3f83af64",
   "metadata": {},
   "outputs": [
    {
     "name": "stdout",
     "output_type": "stream",
     "text": [
      "Dr John >mith, M.D\n",
      "\n",
      "2 Non-Important street,\n",
      "New York, Phone (900)-323- ~2222\n",
      "\n",
      "Name:  Virat Kohli Date: 2/05/2022\n",
      "\n",
      "Address: 2 cricket blvd, New Delhi\n",
      "\n",
      "| Omeprazole 40 mg\n",
      "\n",
      "Directions: Use two tablets daily for three months\n",
      "\n",
      "Refill: 3 times\n"
     ]
    }
   ],
   "source": [
    "pytesseract.pytesseract.tesseract_cmd = r'C:\\Program Files\\Tesseract-OCR\\tesseract.exe'\n",
    "text = pytesseract.image_to_string(img, lang='eng')\n",
    "print(text)"
   ]
  },
  {
   "cell_type": "code",
   "execution_count": 44,
   "id": "1566029d-377d-4243-afc6-2751437717d3",
   "metadata": {},
   "outputs": [],
   "source": [
    "text = '''\n",
    "Dr John Smith, M.D\n",
    "2 Non-Important Street,\n",
    "New York, Phone (000)-111-2222\n",
    "Name: Marta Sharapova Date: 5/11/2022\n",
    "Address: 9 tennis court, new Russia, DC\n",
    "\n",
    " \n",
    " \n",
    "\n",
    "Prednisone 20 mg\n",
    "Lialda 2.4 gram\n",
    "Directions:\n",
    "Prednisone, Taper 5 mg every 3 days,\n",
    "Finish in 2.5 weeks -\n",
    "Lialda - take 2 pill everyday for 1 month\n",
    "Refill: 3 times\n",
    "'''"
   ]
  },
  {
   "cell_type": "code",
   "execution_count": 45,
   "id": "cd7ba275-da0b-4cf2-9caf-25da13ce8d5a",
   "metadata": {},
   "outputs": [
    {
     "data": {
      "text/plain": [
       "'Marta Sharapova'"
      ]
     },
     "execution_count": 45,
     "metadata": {},
     "output_type": "execute_result"
    }
   ],
   "source": [
    "import re\n",
    "\n",
    "pattern = 'Name:(.*)Date'\n",
    "\n",
    "matches = re.findall(pattern, text)\n",
    "matches[0].strip()"
   ]
  },
  {
   "cell_type": "code",
   "execution_count": 46,
   "id": "1b122424-ee2b-4204-9fbe-9ad4a25e362f",
   "metadata": {},
   "outputs": [
    {
     "data": {
      "text/plain": [
       "'9 tennis court, new Russia, DC'"
      ]
     },
     "execution_count": 46,
     "metadata": {},
     "output_type": "execute_result"
    }
   ],
   "source": [
    "pattern = 'Address:(.*)\\n'\n",
    "\n",
    "matches = re.findall(pattern, text)\n",
    "matches[0].strip()"
   ]
  },
  {
   "cell_type": "code",
   "execution_count": 47,
   "id": "60916183-ccb0-4ea5-83c9-eb5d765b195b",
   "metadata": {},
   "outputs": [
    {
     "data": {
      "text/plain": [
       "'Prednisone 20 mg\\nLialda 2.4 gram'"
      ]
     },
     "execution_count": 47,
     "metadata": {},
     "output_type": "execute_result"
    }
   ],
   "source": [
    "pattern = 'Address[^\\n]*(.*)Directions'\n",
    "\n",
    "matches = re.findall(pattern, text, flags=re.DOTALL)\n",
    "matches[0].strip()"
   ]
  },
  {
   "cell_type": "code",
   "execution_count": 48,
   "id": "6238bb53-b5cb-4ce7-b1d9-4ec5e22b4754",
   "metadata": {},
   "outputs": [
    {
     "data": {
      "text/plain": [
       "'Prednisone, Taper 5 mg every 3 days,\\nFinish in 2.5 weeks -\\nLialda - take 2 pill everyday for 1 month'"
      ]
     },
     "execution_count": 48,
     "metadata": {},
     "output_type": "execute_result"
    }
   ],
   "source": [
    "pattern = 'Directions:(.*)Refill'\n",
    "\n",
    "matches = re.findall(pattern, text, flags=re.DOTALL)\n",
    "matches[0].strip()"
   ]
  },
  {
   "cell_type": "code",
   "execution_count": 49,
   "id": "0aeacc21-d4ad-4c24-875e-ee3f571425c8",
   "metadata": {},
   "outputs": [
    {
     "data": {
      "text/plain": [
       "'3'"
      ]
     },
     "execution_count": 49,
     "metadata": {},
     "output_type": "execute_result"
    }
   ],
   "source": [
    "pattern = 'Refill:(.*)times'\n",
    "\n",
    "matches = re.findall(pattern, text, flags=re.DOTALL)\n",
    "matches[0].strip()"
   ]
  },
  {
   "cell_type": "code",
   "execution_count": null,
   "id": "df69e595-5e01-475c-8f45-d3a5edebd227",
   "metadata": {},
   "outputs": [],
   "source": []
  }
 ],
 "metadata": {
  "kernelspec": {
   "display_name": "Python 3 (ipykernel)",
   "language": "python",
   "name": "python3"
  },
  "language_info": {
   "codemirror_mode": {
    "name": "ipython",
    "version": 3
   },
   "file_extension": ".py",
   "mimetype": "text/x-python",
   "name": "python",
   "nbconvert_exporter": "python",
   "pygments_lexer": "ipython3",
   "version": "3.8.10"
  }
 },
 "nbformat": 4,
 "nbformat_minor": 5
}
