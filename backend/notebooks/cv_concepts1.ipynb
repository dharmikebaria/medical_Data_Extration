{
 "cells": [
  {
   "cell_type": "code",
   "execution_count": 15,
   "id": "00c6048c-3720-472b-90b3-4c215f130276",
   "metadata": {},
   "outputs": [],
   "source": [
    "import cv2\n",
    "from PIL import Image\n",
    "import numpy as np"
   ]
  },
  {
   "cell_type": "code",
   "execution_count": 12,
   "id": "ff6a1316-1b48-49bd-af67-cfbaf9a74ce5",
   "metadata": {},
   "outputs": [
    {
     "data": {
      "text/plain": [
       "array([[206, 206, 206, ..., 187, 186, 184],\n",
       "       [206, 206, 206, ..., 186, 185, 185],\n",
       "       [206, 206, 206, ..., 186, 185, 185],\n",
       "       ...,\n",
       "       [162, 157, 152, ..., 184, 184, 184],\n",
       "       [160, 156, 152, ..., 184, 184, 184],\n",
       "       [156, 158, 158, ..., 184, 184, 184]], dtype=uint8)"
      ]
     },
     "execution_count": 12,
     "metadata": {},
     "output_type": "execute_result"
    }
   ],
   "source": [
    "img=cv2.imread(\"dark_image.jpg\",flags=cv2.IMREAD_GRAYSCALE)\n",
    "img"
   ]
  },
  {
   "cell_type": "code",
   "execution_count": 20,
   "id": "8d822ab7-47ae-4d6a-ab97-d603a3965489",
   "metadata": {},
   "outputs": [],
   "source": [
    "Image.fromarray(img).show()"
   ]
  },
  {
   "cell_type": "code",
   "execution_count": 21,
   "id": "988b14a0-0dc7-45a5-82d2-cb11e0fb18e1",
   "metadata": {},
   "outputs": [],
   "source": [
    "_, new_img = cv2.threshold(img,150,255,cv2.THRESH_BINARY)\n",
    "Image.fromarray(new_img).show()"
   ]
  },
  {
   "cell_type": "code",
   "execution_count": 22,
   "id": "19b62475-c518-4978-b5d7-f4aa6c7e5e7f",
   "metadata": {},
   "outputs": [],
   "source": [
    "new_img = cv2.adaptiveThreshold(\n",
    "    img,\n",
    "    255,\n",
    "    cv2.ADAPTIVE_THRESH_GAUSSIAN_C,  \n",
    "    cv2.THRESH_BINARY,\n",
    "    61,\n",
    "    11\n",
    ")\n",
    "Image.fromarray(new_img).show()"
   ]
  },
  {
   "cell_type": "code",
   "execution_count": null,
   "id": "2868980a-d83f-47b2-8ff1-e61f79e7e2a3",
   "metadata": {},
   "outputs": [],
   "source": []
  }
 ],
 "metadata": {
  "kernelspec": {
   "display_name": "Python 3 (ipykernel)",
   "language": "python",
   "name": "python3"
  },
  "language_info": {
   "codemirror_mode": {
    "name": "ipython",
    "version": 3
   },
   "file_extension": ".py",
   "mimetype": "text/x-python",
   "name": "python",
   "nbconvert_exporter": "python",
   "pygments_lexer": "ipython3",
   "version": "3.8.10"
  }
 },
 "nbformat": 4,
 "nbformat_minor": 5
}
